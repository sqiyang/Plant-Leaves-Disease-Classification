{
 "cells": [
  {
   "cell_type": "markdown",
   "metadata": {},
   "source": [
    "# Plant Disease Classification with Plant Village Dataset\n"
   ]
  },
  {
   "cell_type": "code",
   "execution_count": 9,
   "metadata": {
    "execution": {
     "iopub.execute_input": "2023-12-08T08:38:23.287265Z",
     "iopub.status.busy": "2023-12-08T08:38:23.286891Z",
     "iopub.status.idle": "2023-12-08T08:38:23.293093Z",
     "shell.execute_reply": "2023-12-08T08:38:23.292102Z",
     "shell.execute_reply.started": "2023-12-08T08:38:23.287233Z"
    }
   },
   "outputs": [],
   "source": [
    "import torch\n",
    "import torch.nn as nn\n",
    "import torch.optim as optim\n",
    "from torch.optim import lr_scheduler\n",
    "from torch.utils.data import DataLoader, sampler, random_split\n",
    "from torchvision import datasets, models, transforms\n",
    "import matplotlib.pyplot as plt\n",
    "from sklearn.metrics import classification_report\n",
    "import numpy as np"
   ]
  },
  {
   "cell_type": "code",
   "execution_count": 10,
   "metadata": {
    "execution": {
     "iopub.execute_input": "2023-12-08T08:38:23.298400Z",
     "iopub.status.busy": "2023-12-08T08:38:23.298119Z",
     "iopub.status.idle": "2023-12-08T08:38:23.304693Z",
     "shell.execute_reply": "2023-12-08T08:38:23.303803Z",
     "shell.execute_reply.started": "2023-12-08T08:38:23.298376Z"
    }
   },
   "outputs": [],
   "source": [
    "# Define data directories\n",
    "data_dir = \"/kaggle/input/plantvillage-dataset/color\""
   ]
  },
  {
   "cell_type": "code",
   "execution_count": 11,
   "metadata": {
    "execution": {
     "iopub.execute_input": "2023-12-08T08:38:23.307059Z",
     "iopub.status.busy": "2023-12-08T08:38:23.306682Z",
     "iopub.status.idle": "2023-12-08T08:38:34.026471Z",
     "shell.execute_reply": "2023-12-08T08:38:34.025483Z",
     "shell.execute_reply.started": "2023-12-08T08:38:23.307026Z"
    },
    "scrolled": true
   },
   "outputs": [
    {
     "name": "stdout",
     "output_type": "stream",
     "text": [
      "43444 5430 5431\n"
     ]
    }
   ],
   "source": [
    "# define data transformations including augmentation for train, validation, and test sets\n",
    "data_transforms = {\n",
    "    'train': transforms.Compose([\n",
    "        transforms.RandomResizedCrop(224),\n",
    "        transforms.RandomHorizontalFlip(),\n",
    "        transforms.RandomVerticalFlip(),  \n",
    "        transforms.RandomRotation(40),\n",
    "        transforms.ColorJitter(brightness=0.2, contrast=0.2, saturation=0.2, hue=0.2),\n",
    "        transforms.RandomAffine(degrees=0, translate=(0.1, 0.1), scale=(0.9, 1.1), shear=10),\n",
    "        transforms.RandomErasing(p=0.5, scale=(0.02, 0.2), ratio=(0.3, 3.3), value=0, inplace=False),\n",
    "        transforms.ToTensor(),\n",
    "        transforms.Normalize([0.485, 0.456, 0.406], [0.229, 0.224, 0.225])\n",
    "    ]),\n",
    "    'val': transforms.Compose([\n",
    "        transforms.Resize(256),\n",
    "        transforms.CenterCrop(224),\n",
    "        transforms.ToTensor(),\n",
    "        transforms.Normalize([0.485, 0.456, 0.406], [0.229, 0.224, 0.225])\n",
    "    ]),\n",
    "    'test': transforms.Compose([\n",
    "        transforms.Resize(256),\n",
    "        transforms.CenterCrop(224),\n",
    "        transforms.ToTensor(),\n",
    "        transforms.Normalize([0.485, 0.456, 0.406], [0.229, 0.224, 0.225])\n",
    "    ]),\n",
    "}\n",
    "\n",
    "\n",
    "image_dataset = datasets.ImageFolder(root=data_dir)  \n",
    "class_names = image_dataset.classes\n",
    "num_classes = len(class_names)\n",
    "\n",
    "# Split the dataset into train, validation, and test sets\n",
    "train_size = int(0.8 * len(image_dataset))\n",
    "val_size = int(0.1 * len(image_dataset))\n",
    "test_size = len(image_dataset) - train_size - val_size\n",
    "train_dataset, val_dataset, test_dataset = torch.utils.data.random_split(image_dataset, [train_size, val_size, test_size])\n",
    "train_dataset.dataset.transform = data_transforms['train']\n",
    "val_dataset.dataset.transform = data_transforms['val']\n",
    "test_dataset.dataset.transform = data_transforms['test']\n",
    "\n",
    "train_loader = DataLoader(train_dataset, batch_size=16, shuffle=True, num_workers=4)\n",
    "val_loader = DataLoader(val_dataset, batch_size=16, shuffle=False, num_workers=4)\n",
    "test_loader = DataLoader(test_dataset, batch_size=16, shuffle=False, num_workers=4)\n",
    "\n",
    "\n",
    "print(len(train_dataset), len(val_dataset), len(test_dataset))"
   ]
  },
  {
   "cell_type": "code",
   "execution_count": 12,
   "metadata": {
    "execution": {
     "iopub.execute_input": "2023-12-08T08:38:34.028322Z",
     "iopub.status.busy": "2023-12-08T08:38:34.028033Z",
     "iopub.status.idle": "2023-12-08T08:38:34.526430Z",
     "shell.execute_reply": "2023-12-08T08:38:34.525640Z",
     "shell.execute_reply.started": "2023-12-08T08:38:34.028289Z"
    }
   },
   "outputs": [],
   "source": [
    "# Load a pre-trained ResNet model\n",
    "model = models.resnet50(pretrained=True)\n",
    "\n",
    "# Modify the last fully connected layer to match the number of classes\n",
    "num_ftrs = model.fc.in_features\n",
    "model.fc = nn.Linear(num_ftrs, num_classes)\n",
    "\n",
    "\n",
    "# Define loss function and optimizer\n",
    "criterion_1 = nn.CrossEntropyLoss()\n",
    "criterion_2 = nn.MultiMarginLoss()\n",
    "\n",
    "optimizer_1 = optim.Adam(model.parameters(), lr=0.0001)\n",
    "optimizer_2 = optim.SGD(model.parameters(), lr=0.0001, momentum=0.8)\n",
    "\n",
    "\n",
    "scheduler_1 = lr_scheduler.StepLR(optimizer_1, step_size=7, gamma=0.1)\n",
    "scheduler_2 = lr_scheduler.StepLR(optimizer_2, step_size=7, gamma=0.1)"
   ]
  },
  {
   "cell_type": "code",
   "execution_count": 13,
   "metadata": {
    "execution": {
     "iopub.execute_input": "2023-12-08T08:38:34.528026Z",
     "iopub.status.busy": "2023-12-08T08:38:34.527659Z",
     "iopub.status.idle": "2023-12-08T08:38:34.569632Z",
     "shell.execute_reply": "2023-12-08T08:38:34.568805Z",
     "shell.execute_reply.started": "2023-12-08T08:38:34.527991Z"
    }
   },
   "outputs": [
    {
     "name": "stdout",
     "output_type": "stream",
     "text": [
      "cuda:0\n"
     ]
    }
   ],
   "source": [
    "# Define the device to train on (CPU/GPU if available)\n",
    "device = torch.device(\"cuda:0\" if torch.cuda.is_available() else \"cpu\")\n",
    "\n",
    "model= nn.DataParallel(model)\n",
    "# Move the model to the device\n",
    "model = model.to(device)\n",
    "\n",
    "print(device)"
   ]
  },
  {
   "cell_type": "code",
   "execution_count": null,
   "metadata": {
    "execution": {
     "iopub.execute_input": "2023-12-08T08:38:34.572451Z",
     "iopub.status.busy": "2023-12-08T08:38:34.572168Z",
     "iopub.status.idle": "2023-12-08T08:38:34.587733Z",
     "shell.execute_reply": "2023-12-08T08:38:34.586765Z",
     "shell.execute_reply.started": "2023-12-08T08:38:34.572426Z"
    }
   },
   "outputs": [],
   "source": [
    "def train_model(model, criterion, optimizer, scheduler, train_loader, val_loader, test_loader, num_epochs=50, patience=5):\n",
    "    history = {'train_loss': [], 'val_loss': [], 'train_acc': [], 'val_acc': []}\n",
    "    best_val_loss = float('inf')\n",
    "    no_improvement = 0\n",
    "\n",
    "    for epoch in range(num_epochs):\n",
    "        # Training phase\n",
    "        model.train()\n",
    "        running_train_loss = 0.0\n",
    "        running_corrects = 0\n",
    "        total_batches = len(train_loader)\n",
    "\n",
    "        for batch_idx, (inputs, labels) in enumerate(train_loader):\n",
    "            inputs = inputs.to(device)\n",
    "            labels = labels.to(device)\n",
    "            optimizer.zero_grad()\n",
    "            outputs = model(inputs)\n",
    "            loss = criterion(outputs, labels)\n",
    "            loss.backward()\n",
    "            optimizer.step()\n",
    "            running_train_loss += loss.item() * inputs.size(0)\n",
    "            _, preds = torch.max(outputs, 1)\n",
    "            running_corrects += torch.sum(preds == labels.data)\n",
    "            progress = (batch_idx + 1) / total_batches * 100\n",
    "            print(f'Epoch [{epoch + 1}/{num_epochs}] Training... {progress:.2f}% complete', end='\\r')\n",
    "\n",
    "        epoch_train_loss = running_train_loss / len(train_loader.dataset)\n",
    "        epoch_train_acc = running_corrects.double() / len(train_loader.dataset)\n",
    "        history['train_loss'].append(epoch_train_loss)\n",
    "        history['train_acc'].append(epoch_train_acc)\n",
    "\n",
    "        # Validation phase\n",
    "        model.eval()\n",
    "        running_val_loss = 0.0\n",
    "        running_corrects = 0\n",
    "\n",
    "        for inputs, labels in val_loader:\n",
    "            inputs = inputs.to(device)\n",
    "            labels = labels.to(device)\n",
    "\n",
    "            with torch.no_grad():\n",
    "                outputs = model(inputs)\n",
    "                loss = criterion(outputs, labels)\n",
    "\n",
    "                running_val_loss += loss.item() * inputs.size(0)\n",
    "                _, preds = torch.max(outputs, 1)\n",
    "                running_corrects += torch.sum(preds == labels.data)\n",
    "\n",
    "        epoch_val_loss = running_val_loss / len(val_loader.dataset)\n",
    "        epoch_val_acc = running_corrects.double() / len(val_loader.dataset)\n",
    "        history['val_loss'].append(epoch_val_loss)\n",
    "        history['val_acc'].append(epoch_val_acc)\n",
    "\n",
    "        print(f'Epoch [{epoch + 1}/{num_epochs}] '\n",
    "              f'Train Loss: {epoch_train_loss:.4f}, Train Acc: {epoch_train_acc:.4f}, '\n",
    "              f'Val Loss: {epoch_val_loss:.4f}, Val Acc: {epoch_val_acc:.4f}')\n",
    "\n",
    "        # Early stopping check\n",
    "        if epoch_val_loss < best_val_loss:\n",
    "            best_val_loss = epoch_val_loss\n",
    "            no_improvement = 0\n",
    "        else:\n",
    "            no_improvement += 1\n",
    "\n",
    "        if no_improvement >= patience:\n",
    "            print(f'Early stopping! No improvement for {patience} epochs.')\n",
    "            break\n",
    "\n",
    "        scheduler.step()\n",
    "\n",
    "    return history\n",
    "\n",
    "# Choose criterion and optimizer for training\n",
    "selected_criterion = criterion_1\n",
    "selected_optimizer = optimizer_1\n",
    "selected_scheduler = scheduler_1\n"
   ]
  },
  {
   "cell_type": "code",
   "execution_count": 15,
   "metadata": {
    "execution": {
     "iopub.execute_input": "2023-12-08T08:38:34.589071Z",
     "iopub.status.busy": "2023-12-08T08:38:34.588778Z",
     "iopub.status.idle": "2023-12-08T11:05:42.293781Z",
     "shell.execute_reply": "2023-12-08T11:05:42.292709Z",
     "shell.execute_reply.started": "2023-12-08T08:38:34.589046Z"
    }
   },
   "outputs": [
    {
     "name": "stdout",
     "output_type": "stream",
     "text": [
      "Epoch [1/50] Train Loss: 0.2591, Train Acc: 0.9294, Val Loss: 0.0604, Val Acc: 0.9823\n",
      "Epoch [2/50] Train Loss: 0.0909, Train Acc: 0.9713, Val Loss: 0.0393, Val Acc: 0.9880\n",
      "Epoch [3/50] Train Loss: 0.0642, Train Acc: 0.9804, Val Loss: 0.0388, Val Acc: 0.9873\n",
      "Epoch [4/50] Train Loss: 0.0523, Train Acc: 0.9833, Val Loss: 0.0250, Val Acc: 0.9926\n",
      "Epoch [5/50] Train Loss: 0.0420, Train Acc: 0.9859, Val Loss: 0.0409, Val Acc: 0.9878\n",
      "Epoch [6/50] Train Loss: 0.0387, Train Acc: 0.9881, Val Loss: 0.0443, Val Acc: 0.9867\n",
      "Epoch [7/50] Train Loss: 0.0299, Train Acc: 0.9905, Val Loss: 0.0324, Val Acc: 0.9919\n",
      "Epoch [8/50] Train Loss: 0.0086, Train Acc: 0.9980, Val Loss: 0.0083, Val Acc: 0.9976\n",
      "Epoch [9/50] Train Loss: 0.0039, Train Acc: 0.9991, Val Loss: 0.0070, Val Acc: 0.9976\n",
      "Epoch [10/50] Train Loss: 0.0028, Train Acc: 0.9994, Val Loss: 0.0083, Val Acc: 0.9972\n",
      "Epoch [11/50] Train Loss: 0.0022, Train Acc: 0.9994, Val Loss: 0.0055, Val Acc: 0.9980\n",
      "Epoch [12/50] Train Loss: 0.0018, Train Acc: 0.9997, Val Loss: 0.0055, Val Acc: 0.9985\n",
      "Epoch [13/50] Train Loss: 0.0015, Train Acc: 0.9997, Val Loss: 0.0051, Val Acc: 0.9987\n",
      "Epoch [14/50] Train Loss: 0.0016, Train Acc: 0.9996, Val Loss: 0.0063, Val Acc: 0.9982\n",
      "Epoch [15/50] Train Loss: 0.0015, Train Acc: 0.9997, Val Loss: 0.0044, Val Acc: 0.9987\n",
      "Epoch [16/50] Train Loss: 0.0008, Train Acc: 0.9999, Val Loss: 0.0040, Val Acc: 0.9989\n",
      "Epoch [17/50] Train Loss: 0.0007, Train Acc: 0.9999, Val Loss: 0.0042, Val Acc: 0.9982\n",
      "Epoch [18/50] Train Loss: 0.0010, Train Acc: 0.9998, Val Loss: 0.0039, Val Acc: 0.9993\n",
      "Epoch [19/50] Train Loss: 0.0010, Train Acc: 0.9998, Val Loss: 0.0036, Val Acc: 0.9991\n",
      "Epoch [20/50] Train Loss: 0.0007, Train Acc: 0.9999, Val Loss: 0.0051, Val Acc: 0.9989\n",
      "Epoch [21/50] Train Loss: 0.0010, Train Acc: 0.9997, Val Loss: 0.0040, Val Acc: 0.9987\n",
      "Epoch [22/50] Train Loss: 0.0007, Train Acc: 0.9999, Val Loss: 0.0037, Val Acc: 0.9987\n",
      "Epoch [23/50] Train Loss: 0.0010, Train Acc: 0.9998, Val Loss: 0.0040, Val Acc: 0.9993\n",
      "Epoch [24/50] Train Loss: 0.0007, Train Acc: 0.9999, Val Loss: 0.0039, Val Acc: 0.9991\n",
      "Early stopping! No improvement for 5 epochs.\n"
     ]
    }
   ],
   "source": [
    "# Train the model\n",
    "history = train_model(model, selected_criterion, selected_optimizer, selected_scheduler, train_loader, val_loader, test_loader, num_epochs=50, patience=5)"
   ]
  },
  {
   "cell_type": "code",
   "execution_count": 16,
   "metadata": {
    "execution": {
     "iopub.execute_input": "2023-12-08T11:05:42.295584Z",
     "iopub.status.busy": "2023-12-08T11:05:42.295270Z",
     "iopub.status.idle": "2023-12-08T11:05:42.920883Z",
     "shell.execute_reply": "2023-12-08T11:05:42.919910Z",
     "shell.execute_reply.started": "2023-12-08T11:05:42.295554Z"
    }
   },
   "outputs": [
    {
     "data": {
      "image/png": "[encoded data removed]",
      "text/plain": [
       "<Figure size 1600x800 with 2 Axes>"
      ]
     },
     "metadata": {},
     "output_type": "display_data"
    }
   ],
   "source": [
    "# Move tensors from GPU to CPU for plotting\n",
    "train_acc_cpu = [acc.item() for acc in history['train_acc']]\n",
    "val_acc_cpu = [acc.item() for acc in history['val_acc']]\n",
    "\n",
    "# Plotting the training history with a larger size\n",
    "plt.figure(figsize=(16, 8))  \n",
    "\n",
    "plt.subplot(1, 2, 1)\n",
    "plt.plot(train_acc_cpu, label='Training Accuracy')\n",
    "plt.plot(val_acc_cpu, label='Validation Accuracy')\n",
    "plt.xlabel('Epochs')\n",
    "plt.ylabel('Accuracy')\n",
    "plt.legend()\n",
    "\n",
    "plt.subplot(1, 2, 2)\n",
    "plt.plot(history['train_loss'], label='Training Loss')\n",
    "plt.plot(history['val_loss'], label='Validation Loss')\n",
    "plt.xlabel('Epochs')\n",
    "plt.ylabel('Loss')\n",
    "plt.legend()\n",
    "\n",
    "# Show the plot\n",
    "plt.tight_layout()\n",
    "plt.show()\n"
   ]
  },
  {
   "cell_type": "code",
   "execution_count": 17,
   "metadata": {
    "execution": {
     "iopub.execute_input": "2023-12-08T11:05:42.922364Z",
     "iopub.status.busy": "2023-12-08T11:05:42.922051Z",
     "iopub.status.idle": "2023-12-08T11:06:00.847667Z",
     "shell.execute_reply": "2023-12-08T11:06:00.846615Z",
     "shell.execute_reply.started": "2023-12-08T11:05:42.922336Z"
    }
   },
   "outputs": [
    {
     "name": "stdout",
     "output_type": "stream",
     "text": [
      "Test Accuracy: 0.9969\n"
     ]
    }
   ],
   "source": [
    "# Evaluation\n",
    "model.eval()\n",
    "running_corrects = 0\n",
    "\n",
    "for inputs, labels in test_loader:\n",
    "    inputs = inputs.to(device)\n",
    "    labels = labels.to(device)\n",
    "\n",
    "    outputs = model(inputs)\n",
    "    _, preds = torch.max(outputs, 1)\n",
    "\n",
    "    running_corrects += torch.sum(preds == labels.data)\n",
    "\n",
    "dataset_size = len(test_dataset)\n",
    "accuracy = running_corrects.double() / dataset_size\n",
    "print('Test Accuracy: {:.4f}'.format(accuracy))"
   ]
  },
  {
   "cell_type": "code",
   "execution_count": 18,
   "metadata": {
    "execution": {
     "iopub.execute_input": "2023-12-08T11:06:00.849626Z",
     "iopub.status.busy": "2023-12-08T11:06:00.849221Z",
     "iopub.status.idle": "2023-12-08T11:06:19.048268Z",
     "shell.execute_reply": "2023-12-08T11:06:19.047100Z",
     "shell.execute_reply.started": "2023-12-08T11:06:00.849587Z"
    }
   },
   "outputs": [
    {
     "name": "stdout",
     "output_type": "stream",
     "text": [
      "              precision    recall  f1-score   support\n",
      "\n",
      "           0       1.00      1.00      1.00        66\n",
      "           1       1.00      1.00      1.00        55\n",
      "           2       1.00      1.00      1.00        30\n",
      "           3       1.00      1.00      1.00       170\n",
      "           4       1.00      1.00      1.00       159\n",
      "           5       1.00      1.00      1.00       118\n",
      "           6       1.00      1.00      1.00        93\n",
      "           7       0.98      0.93      0.95        54\n",
      "           8       0.99      1.00      0.99        98\n",
      "           9       0.96      0.98      0.97        96\n",
      "          10       1.00      1.00      1.00        98\n",
      "          11       1.00      0.99      1.00       116\n",
      "          12       0.99      1.00      1.00       147\n",
      "          13       1.00      1.00      1.00        95\n",
      "          14       1.00      1.00      1.00        40\n",
      "          15       1.00      1.00      1.00       557\n",
      "          16       1.00      1.00      1.00       220\n",
      "          17       0.98      1.00      0.99        41\n",
      "          18       1.00      1.00      1.00        95\n",
      "          19       1.00      1.00      1.00       125\n",
      "          20       1.00      1.00      1.00        91\n",
      "          21       1.00      1.00      1.00        97\n",
      "          22       1.00      1.00      1.00        15\n",
      "          23       1.00      1.00      1.00        37\n",
      "          24       1.00      1.00      1.00       509\n",
      "          25       1.00      1.00      1.00       193\n",
      "          26       1.00      1.00      1.00       129\n",
      "          27       1.00      1.00      1.00        34\n",
      "          28       1.00      1.00      1.00       218\n",
      "          29       0.99      0.98      0.99       102\n",
      "          30       0.99      0.99      0.99       188\n",
      "          31       1.00      1.00      1.00       102\n",
      "          32       0.99      0.99      0.99       187\n",
      "          33       0.98      1.00      0.99       174\n",
      "          34       0.99      0.97      0.98       145\n",
      "          35       1.00      1.00      1.00       532\n",
      "          36       1.00      1.00      1.00        34\n",
      "          37       0.99      1.00      1.00       171\n",
      "\n",
      "    accuracy                           1.00      5431\n",
      "   macro avg       1.00      1.00      1.00      5431\n",
      "weighted avg       1.00      1.00      1.00      5431\n",
      "\n"
     ]
    }
   ],
   "source": [
    "def predict_labels(model, test_loader):\n",
    "    model.eval()\n",
    "    predicted_labels = []\n",
    "    true_labels = []\n",
    "\n",
    "    for inputs, labels in test_loader:\n",
    "        inputs = inputs.to(device)\n",
    "        labels = labels.to(device)\n",
    "\n",
    "        with torch.no_grad():\n",
    "            outputs = model(inputs)\n",
    "            _, preds = torch.max(outputs, 1)\n",
    "\n",
    "        predicted_labels.extend(preds.cpu().numpy())\n",
    "        true_labels.extend(labels.cpu().numpy())\n",
    "\n",
    "    return true_labels, predicted_labels\n",
    "\n",
    "# Using the function to get predicted and true labels\n",
    "true_labels, predicted_labels = predict_labels(model, test_loader)\n",
    "\n",
    "# Convert predicted and true labels to numpy arrays\n",
    "true_labels = np.array(true_labels)\n",
    "predicted_labels = np.array(predicted_labels)\n",
    "\n",
    "# Create a classification report\n",
    "report = classification_report(true_labels, predicted_labels)\n",
    "print(report)"
   ]
  },
  {
   "cell_type": "code",
   "execution_count": null,
   "metadata": {},
   "outputs": [],
   "source": []
  }
 ],
 "metadata": {
  "kaggle": {
   "accelerator": "nvidiaTeslaT4",
   "dataSources": [
    {
     "datasetId": 277323,
     "sourceId": 658267,
     "sourceType": "datasetVersion"
    },
    {
     "datasetId": 3923798,
     "sourceId": 6975847,
     "sourceType": "datasetVersion"
    }
   ],
   "dockerImageVersionId": 30616,
   "isGpuEnabled": true,
   "isInternetEnabled": true,
   "language": "python",
   "sourceType": "notebook"
  },
  "kernelspec": {
   "display_name": "Python 3 (ipykernel)",
   "language": "python",
   "name": "python3"
  },
  "language_info": {
   "codemirror_mode": {
    "name": "ipython",
    "version": 3
   },
   "file_extension": ".py",
   "mimetype": "text/x-python",
   "name": "python",
   "nbconvert_exporter": "python",
   "pygments_lexer": "ipython3",
   "version": "3.9.13"
  }
 },
 "nbformat": 4,
 "nbformat_minor": 4
}
